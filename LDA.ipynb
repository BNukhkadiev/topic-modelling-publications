{
 "cells": [
  {
   "cell_type": "markdown",
   "metadata": {},
   "source": [
    "# LDA: Latent Dirichlet Analysis"
   ]
  },
  {
   "cell_type": "code",
   "execution_count": 2,
   "metadata": {},
   "outputs": [
    {
     "data": {
      "text/html": [
       "<div>\n",
       "<style scoped>\n",
       "    .dataframe tbody tr th:only-of-type {\n",
       "        vertical-align: middle;\n",
       "    }\n",
       "\n",
       "    .dataframe tbody tr th {\n",
       "        vertical-align: top;\n",
       "    }\n",
       "\n",
       "    .dataframe thead th {\n",
       "        text-align: right;\n",
       "    }\n",
       "</style>\n",
       "<table border=\"1\" class=\"dataframe\">\n",
       "  <thead>\n",
       "    <tr style=\"text-align: right;\">\n",
       "      <th></th>\n",
       "      <th>titles</th>\n",
       "      <th>summaries</th>\n",
       "      <th>terms</th>\n",
       "    </tr>\n",
       "  </thead>\n",
       "  <tbody>\n",
       "    <tr>\n",
       "      <th>0</th>\n",
       "      <td>Survey on Semantic Stereo Matching / Semantic ...</td>\n",
       "      <td>Stereo matching is one of the widely used tech...</td>\n",
       "      <td>['cs.CV', 'cs.LG']</td>\n",
       "    </tr>\n",
       "    <tr>\n",
       "      <th>1</th>\n",
       "      <td>FUTURE-AI: Guiding Principles and Consensus Re...</td>\n",
       "      <td>The recent advancements in artificial intellig...</td>\n",
       "      <td>['cs.CV', 'cs.AI', 'cs.LG']</td>\n",
       "    </tr>\n",
       "    <tr>\n",
       "      <th>2</th>\n",
       "      <td>Enforcing Mutual Consistency of Hard Regions f...</td>\n",
       "      <td>In this paper, we proposed a novel mutual cons...</td>\n",
       "      <td>['cs.CV', 'cs.AI']</td>\n",
       "    </tr>\n",
       "    <tr>\n",
       "      <th>3</th>\n",
       "      <td>Parameter Decoupling Strategy for Semi-supervi...</td>\n",
       "      <td>Consistency training has proven to be an advan...</td>\n",
       "      <td>['cs.CV']</td>\n",
       "    </tr>\n",
       "    <tr>\n",
       "      <th>4</th>\n",
       "      <td>Background-Foreground Segmentation for Interio...</td>\n",
       "      <td>To ensure safety in automated driving, the cor...</td>\n",
       "      <td>['cs.CV', 'cs.LG']</td>\n",
       "    </tr>\n",
       "    <tr>\n",
       "      <th>...</th>\n",
       "      <td>...</td>\n",
       "      <td>...</td>\n",
       "      <td>...</td>\n",
       "    </tr>\n",
       "    <tr>\n",
       "      <th>51769</th>\n",
       "      <td>Hierarchically-coupled hidden Markov models fo...</td>\n",
       "      <td>We address the problem of analyzing sets of no...</td>\n",
       "      <td>['stat.ML', 'physics.bio-ph', 'q-bio.QM']</td>\n",
       "    </tr>\n",
       "    <tr>\n",
       "      <th>51770</th>\n",
       "      <td>Blinking Molecule Tracking</td>\n",
       "      <td>We discuss a method for tracking individual mo...</td>\n",
       "      <td>['cs.CV', 'cs.DM']</td>\n",
       "    </tr>\n",
       "    <tr>\n",
       "      <th>51771</th>\n",
       "      <td>Towards a Mathematical Foundation of Immunolog...</td>\n",
       "      <td>We attempt to set a mathematical foundation of...</td>\n",
       "      <td>['stat.ML', 'cs.LG', 'q-bio.GN']</td>\n",
       "    </tr>\n",
       "    <tr>\n",
       "      <th>51772</th>\n",
       "      <td>A Semi-Automatic Graph-Based Approach for Dete...</td>\n",
       "      <td>Diffusion Tensor Imaging (DTI) allows estimati...</td>\n",
       "      <td>['cs.CV']</td>\n",
       "    </tr>\n",
       "    <tr>\n",
       "      <th>51773</th>\n",
       "      <td>SparseCodePicking: feature extraction in mass ...</td>\n",
       "      <td>Mass spectrometry (MS) is an important techniq...</td>\n",
       "      <td>['stat.ML', 'physics.med-ph', 'stat.AP', 'stat...</td>\n",
       "    </tr>\n",
       "  </tbody>\n",
       "</table>\n",
       "<p>51774 rows × 3 columns</p>\n",
       "</div>"
      ],
      "text/plain": [
       "                                                  titles  \\\n",
       "0      Survey on Semantic Stereo Matching / Semantic ...   \n",
       "1      FUTURE-AI: Guiding Principles and Consensus Re...   \n",
       "2      Enforcing Mutual Consistency of Hard Regions f...   \n",
       "3      Parameter Decoupling Strategy for Semi-supervi...   \n",
       "4      Background-Foreground Segmentation for Interio...   \n",
       "...                                                  ...   \n",
       "51769  Hierarchically-coupled hidden Markov models fo...   \n",
       "51770                         Blinking Molecule Tracking   \n",
       "51771  Towards a Mathematical Foundation of Immunolog...   \n",
       "51772  A Semi-Automatic Graph-Based Approach for Dete...   \n",
       "51773  SparseCodePicking: feature extraction in mass ...   \n",
       "\n",
       "                                               summaries  \\\n",
       "0      Stereo matching is one of the widely used tech...   \n",
       "1      The recent advancements in artificial intellig...   \n",
       "2      In this paper, we proposed a novel mutual cons...   \n",
       "3      Consistency training has proven to be an advan...   \n",
       "4      To ensure safety in automated driving, the cor...   \n",
       "...                                                  ...   \n",
       "51769  We address the problem of analyzing sets of no...   \n",
       "51770  We discuss a method for tracking individual mo...   \n",
       "51771  We attempt to set a mathematical foundation of...   \n",
       "51772  Diffusion Tensor Imaging (DTI) allows estimati...   \n",
       "51773  Mass spectrometry (MS) is an important techniq...   \n",
       "\n",
       "                                                   terms  \n",
       "0                                     ['cs.CV', 'cs.LG']  \n",
       "1                            ['cs.CV', 'cs.AI', 'cs.LG']  \n",
       "2                                     ['cs.CV', 'cs.AI']  \n",
       "3                                              ['cs.CV']  \n",
       "4                                     ['cs.CV', 'cs.LG']  \n",
       "...                                                  ...  \n",
       "51769          ['stat.ML', 'physics.bio-ph', 'q-bio.QM']  \n",
       "51770                                 ['cs.CV', 'cs.DM']  \n",
       "51771                   ['stat.ML', 'cs.LG', 'q-bio.GN']  \n",
       "51772                                          ['cs.CV']  \n",
       "51773  ['stat.ML', 'physics.med-ph', 'stat.AP', 'stat...  \n",
       "\n",
       "[51774 rows x 3 columns]"
      ]
     },
     "execution_count": 2,
     "metadata": {},
     "output_type": "execute_result"
    }
   ],
   "source": [
    "import pandas as pd\n",
    "\n",
    "data = pd.read_csv('data/arxiv_data.csv')\n",
    "data"
   ]
  },
  {
   "cell_type": "code",
   "execution_count": 5,
   "metadata": {},
   "outputs": [
    {
     "data": {
      "text/plain": [
       "'Consistency training has proven to be an advanced semi-supervised framework\\nand achieved promising results in medical image segmentation tasks through\\nenforcing an invariance of the predictions over different views of the inputs.\\nHowever, with the iterative updating of model parameters, the models would tend\\nto reach a coupled state and eventually lose the ability to exploit unlabeled\\ndata. To address the issue, we present a novel semi-supervised segmentation\\nmodel based on parameter decoupling strategy to encourage consistent\\npredictions from diverse views. Specifically, we first adopt a two-branch\\nnetwork to simultaneously produce predictions for each image. During the\\ntraining process, we decouple the two prediction branch parameters by quadratic\\ncosine distance to construct different views in latent space. Based on this,\\nthe feature extractor is constrained to encourage the consistency of\\nprobability maps generated by classifiers under diversified features. In the\\noverall training process, the parameters of feature extractor and classifiers\\nare updated alternately by consistency regularization operation and decoupling\\noperation to gradually improve the generalization performance of the model. Our\\nmethod has achieved a competitive result over the state-of-the-art\\nsemi-supervised methods on the Atrial Segmentation Challenge dataset,\\ndemonstrating the effectiveness of our framework. Code is available at\\nhttps://github.com/BX0903/PDC.'"
      ]
     },
     "execution_count": 5,
     "metadata": {},
     "output_type": "execute_result"
    }
   ],
   "source": [
    "data['summaries'][3]"
   ]
  },
  {
   "cell_type": "code",
   "execution_count": 4,
   "metadata": {},
   "outputs": [
    {
     "name": "stdout",
     "output_type": "stream",
     "text": [
      "Тема 1: 0.067*\"neural\" + 0.057*\"networks\" + 0.042*\"graph\" + 0.029*\"network\" + 0.026*\"deep\" + 0.021*\"convolutional\" + 0.021*\"learning\" + 0.018*\"prediction\" + 0.015*\"attention\" + 0.011*\"recurrent\"\n",
      "Тема 2: 0.041*\"detection\" + 0.022*\"recognition\" + 0.022*\"attention\" + 0.021*\"object\" + 0.018*\"based\" + 0.018*\"video\" + 0.017*\"network\" + 0.015*\"resolution\" + 0.014*\"multi\" + 0.013*\"image\"\n",
      "Тема 3: 0.039*\"learning\" + 0.027*\"supervised\" + 0.024*\"generative\" + 0.024*\"adversarial\" + 0.024*\"self\" + 0.017*\"networks\" + 0.012*\"models\" + 0.011*\"explanations\" + 0.011*\"attention\" + 0.010*\"data\"\n",
      "Тема 4: 0.071*\"time\" + 0.058*\"series\" + 0.026*\"image\" + 0.022*\"classification\" + 0.022*\"segmentation\" + 0.018*\"data\" + 0.018*\"based\" + 0.011*\"forecasting\" + 0.010*\"deep\" + 0.009*\"multivariate\"\n",
      "Тема 5: 0.112*\"learning\" + 0.034*\"reinforcement\" + 0.032*\"deep\" + 0.014*\"machine\" + 0.013*\"based\" + 0.013*\"model\" + 0.011*\"decision\" + 0.010*\"data\" + 0.010*\"multi\" + 0.010*\"models\"\n"
     ]
    }
   ],
   "source": [
    "from gensim import corpora\n",
    "from gensim.models import LdaModel\n",
    "from gensim.utils import simple_preprocess\n",
    "from gensim.parsing.preprocessing import STOPWORDS\n",
    "\n",
    "# Подготовка данных\n",
    "documents = data['titles'].values.tolist()\n",
    "stop_words = set(STOPWORDS)\n",
    "texts = [[word for word in simple_preprocess(doc) if word not in stop_words] for doc in documents]\n",
    "dictionary = corpora.Dictionary(texts)\n",
    "corpus = [dictionary.doc2bow(text) for text in texts]\n",
    "\n",
    "# Обучение модели LDA\n",
    "num_topics = 5\n",
    "lda_model = LdaModel(corpus, num_topics=num_topics, id2word=dictionary, passes=15)\n",
    "\n",
    "# Вывод тем и связанных с ними слов\n",
    "for idx, topic in lda_model.print_topics(-1):\n",
    "    print(f\"Тема {idx + 1}: {topic}\")"
   ]
  },
  {
   "cell_type": "code",
   "execution_count": null,
   "metadata": {},
   "outputs": [],
   "source": []
  }
 ],
 "metadata": {
  "kernelspec": {
   "display_name": "topic_model_env",
   "language": "python",
   "name": "python3"
  },
  "language_info": {
   "codemirror_mode": {
    "name": "ipython",
    "version": 3
   },
   "file_extension": ".py",
   "mimetype": "text/x-python",
   "name": "python",
   "nbconvert_exporter": "python",
   "pygments_lexer": "ipython3",
   "version": "3.12.8"
  }
 },
 "nbformat": 4,
 "nbformat_minor": 2
}
