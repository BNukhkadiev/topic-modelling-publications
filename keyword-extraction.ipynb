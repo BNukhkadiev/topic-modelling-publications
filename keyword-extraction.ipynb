{
 "cells": [
  {
   "cell_type": "markdown",
   "metadata": {},
   "source": [
    "# Keyword Extraction\n",
    "Approach: use NLP techniques to identify important words or phrases\n",
    "\n",
    "Tools: TF-IDF, RAKE (Rapid Automatic Keyword Extraction), spaCy, KeyBERT"
   ]
  },
  {
   "cell_type": "markdown",
   "metadata": {},
   "source": [
    "## Extract Keywords using RAKE"
   ]
  },
  {
   "cell_type": "code",
   "execution_count": null,
   "metadata": {},
   "outputs": [],
   "source": [
    "import pandas as pd\n",
    "from rake_nltk import Rake\n",
    "import nltk\n",
    "\n",
    "\n",
    "nltk.download('stopwords')\n",
    "nltk.download('punkt_tab')"
   ]
  },
  {
   "cell_type": "code",
   "execution_count": 12,
   "metadata": {},
   "outputs": [
    {
     "name": "stderr",
     "output_type": "stream",
     "text": [
      "[nltk_data] Downloading package stopwords to /home/baga/nltk_data...\n",
      "[nltk_data]   Package stopwords is already up-to-date!\n",
      "[nltk_data] Downloading package punkt_tab to /home/baga/nltk_data...\n",
      "[nltk_data]   Package punkt_tab is already up-to-date!\n"
     ]
    },
    {
     "name": "stdout",
     "output_type": "stream",
     "text": [
      "\n",
      "\n",
      "Keywords for: Direct Estimation of Appearance Models for Segmentation\n"
     ]
    },
    {
     "data": {
      "text/plain": [
       "[(21.5, 'image segmentation algorithms often depend'),\n",
       " (16.0, 'proposed methods work well'),\n",
       " (15.5, 'effective image segmentation algorithms'),\n",
       " (15.0, 'relate local image statistics'),\n",
       " (14.083333333333334, 'estimating appearance models directly'),\n",
       " (14.083333333333334, 'estimate appearance models directly'),\n",
       " (9.0, 'without explicit consideration'),\n",
       " (9.0, 'spatially coherent regions'),\n",
       " (9.0, 'quadratic equations using'),\n",
       " (9.0, 'present experimental results')]"
      ]
     },
     "execution_count": 12,
     "metadata": {},
     "output_type": "execute_result"
    }
   ],
   "source": [
    "def preprocess_text(corpus):\n",
    "    \"\"\"\n",
    "    1. lowercase\n",
    "    2. tokenize\n",
    "    3. lemmatize\n",
    "    4. drop stopwords\n",
    "    \"\"\"\n",
    "    \n",
    "    \n",
    "\n",
    "\n",
    "def extract_keywords_rake(text):\n",
    "    r = Rake()\n",
    "    r.extract_keywords_from_text(text)\n",
    "    return r.get_ranked_phrases_with_scores()\n",
    "\n",
    "\n",
    "idx = 10\n",
    "data = pd.read_csv('data/arxiv_data.csv')\n",
    "text = data['summaries'][idx]\n",
    "keywords = extract_keywords_rake(text)\n",
    "print('Keywords for:', data['titles'][idx])\n",
    "keywords[:10]"
   ]
  },
  {
   "cell_type": "code",
   "execution_count": null,
   "metadata": {},
   "outputs": [],
   "source": []
  }
 ],
 "metadata": {
  "kernelspec": {
   "display_name": "topic_model_env",
   "language": "python",
   "name": "python3"
  },
  "language_info": {
   "codemirror_mode": {
    "name": "ipython",
    "version": 3
   },
   "file_extension": ".py",
   "mimetype": "text/x-python",
   "name": "python",
   "nbconvert_exporter": "python",
   "pygments_lexer": "ipython3",
   "version": "3.12.8"
  }
 },
 "nbformat": 4,
 "nbformat_minor": 2
}
